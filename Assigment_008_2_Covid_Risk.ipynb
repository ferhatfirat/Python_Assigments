# Assigment 008-2 Covid-19 Risk task : 


age = input("Are you a cigarette addict older than 75 years old? " ).strip().title()  # can be assigned only True/False
chronic = input("Do you have a severe chronic disease? " ).strip().title() # can be assigned only True/False
immune = input("Is your immune system too weak? " ).strip().title() # can be assigned only True/False

if age == "Yes" or immune == "Yes" or chronic == "Yes":
  print("You are in risky group")
else:
  print("You are not in risky group")
