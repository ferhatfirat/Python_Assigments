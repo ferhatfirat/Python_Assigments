name =  "Philip"

question = 'Hi. What is your name?  '

while True:
    answer = input(question).strip().lower().title()

    if name != answer:
        print('Hello, {}. See you later.'.format(answer))
        
    else:
        print('Hello, {}. The password is : W@12'.format(name))
        break
