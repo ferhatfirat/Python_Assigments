#Assignment_008_3_Armstrong _Number.ipynb


number = input("Please enter the number want to learn is Armstrong number? : ")

while not number.isdigit() :
  number = input("It is an invalid entry. Don't use non-numeric, float, or negative values! Please enter the number: ")

number = int(number)
num_list = list(str(number))
length = len(num_list)
sum_number = 0

for i in num_list :
  sum_number = int(i) ** length + sum_number
if number == sum_number:
  print("The number is Armstrong Number")
else :
  print("The number is not Armstrong Number")
