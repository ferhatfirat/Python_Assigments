#Assignment_008_3_Armstrong _Number.ipynb

number = int(input("Please enter the number want to learn is Armstrong number? : "))

num_list = list(str(number))
length = len(num_list)
sum_number = 0

for i in num_list :
  sum_number = int(i) ** length + sum_number

print(number)
print(num_list)
print(sum_number)

if number == sum_number:
  print("The number is Armstrong Number")
else :
  print("The number is not Armstrong Number")
